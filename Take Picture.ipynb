{
 "cells": [
  {
   "cell_type": "code",
   "execution_count": 9,
   "metadata": {},
   "outputs": [],
   "source": [
    "from pathlib import Path\n",
    "from skimage.io import imread\n",
    "from skimage.transform import resize\n",
    "from sklearn.utils import Bunch\n",
    "\n",
    "import matplotlib.pyplot as plt\n",
    "\n",
    "import cv2\n",
    "\n",
    "\n",
    "import os\n",
    "import sys"
   ]
  },
  {
   "cell_type": "markdown",
   "metadata": {},
   "source": [
    "# Take Input"
   ]
  },
  {
   "cell_type": "code",
   "execution_count": 10,
   "metadata": {},
   "outputs": [
    {
     "name": "stdout",
     "output_type": "stream",
     "text": [
      "Name:shravni\n",
      "ID:427263\n"
     ]
    }
   ],
   "source": [
    "Folder_name=input('Name:')\n",
    "Folder_id=input('ID:')"
   ]
  },
  {
   "cell_type": "markdown",
   "metadata": {},
   "source": [
    "# Create Folder"
   ]
  },
  {
   "cell_type": "code",
   "execution_count": 11,
   "metadata": {},
   "outputs": [],
   "source": [
    "def createFolder(directory):\n",
    "    try:\n",
    "        if not os.path.exists(directory):\n",
    "            os.makedirs(directory)\n",
    "    except OSError:\n",
    "        print ('Error: Creating directory. ' +  directory)\n",
    "        \n",
    "\n",
    "createFolder('.\\\\traning_image\\\\'+str(Folder_name)+'_'+str(Folder_id))"
   ]
  },
  {
   "cell_type": "markdown",
   "metadata": {},
   "source": [
    "# Take Traning Image"
   ]
  },
  {
   "cell_type": "code",
   "execution_count": 12,
   "metadata": {},
   "outputs": [
    {
     "name": "stdout",
     "output_type": "stream",
     "text": [
      ".\\traning_image\\shravni_427263\\shravni.427263.1.jpg written!\n",
      ".\\traning_image\\shravni_427263\\shravni.427263.2.jpg written!\n",
      ".\\traning_image\\shravni_427263\\shravni.427263.3.jpg written!\n",
      ".\\traning_image\\shravni_427263\\shravni.427263.4.jpg written!\n",
      ".\\traning_image\\shravni_427263\\shravni.427263.5.jpg written!\n",
      ".\\traning_image\\shravni_427263\\shravni.427263.6.jpg written!\n",
      ".\\traning_image\\shravni_427263\\shravni.427263.7.jpg written!\n",
      ".\\traning_image\\shravni_427263\\shravni.427263.8.jpg written!\n",
      ".\\traning_image\\shravni_427263\\shravni.427263.9.jpg written!\n",
      ".\\traning_image\\shravni_427263\\shravni.427263.10.jpg written!\n",
      ".\\traning_image\\shravni_427263\\shravni.427263.11.jpg written!\n",
      ".\\traning_image\\shravni_427263\\shravni.427263.12.jpg written!\n",
      ".\\traning_image\\shravni_427263\\shravni.427263.13.jpg written!\n",
      ".\\traning_image\\shravni_427263\\shravni.427263.14.jpg written!\n",
      ".\\traning_image\\shravni_427263\\shravni.427263.15.jpg written!\n",
      ".\\traning_image\\shravni_427263\\shravni.427263.16.jpg written!\n",
      ".\\traning_image\\shravni_427263\\shravni.427263.17.jpg written!\n",
      ".\\traning_image\\shravni_427263\\shravni.427263.18.jpg written!\n",
      ".\\traning_image\\shravni_427263\\shravni.427263.19.jpg written!\n",
      ".\\traning_image\\shravni_427263\\shravni.427263.20.jpg written!\n",
      ".\\traning_image\\shravni_427263\\shravni.427263.21.jpg written!\n",
      ".\\traning_image\\shravni_427263\\shravni.427263.22.jpg written!\n",
      ".\\traning_image\\shravni_427263\\shravni.427263.23.jpg written!\n",
      ".\\traning_image\\shravni_427263\\shravni.427263.24.jpg written!\n",
      ".\\traning_image\\shravni_427263\\shravni.427263.25.jpg written!\n",
      ".\\traning_image\\shravni_427263\\shravni.427263.26.jpg written!\n",
      ".\\traning_image\\shravni_427263\\shravni.427263.27.jpg written!\n",
      ".\\traning_image\\shravni_427263\\shravni.427263.28.jpg written!\n",
      ".\\traning_image\\shravni_427263\\shravni.427263.29.jpg written!\n",
      ".\\traning_image\\shravni_427263\\shravni.427263.30.jpg written!\n",
      ".\\traning_image\\shravni_427263\\shravni.427263.31.jpg written!\n",
      ".\\traning_image\\shravni_427263\\shravni.427263.32.jpg written!\n",
      ".\\traning_image\\shravni_427263\\shravni.427263.33.jpg written!\n",
      ".\\traning_image\\shravni_427263\\shravni.427263.34.jpg written!\n",
      ".\\traning_image\\shravni_427263\\shravni.427263.35.jpg written!\n",
      ".\\traning_image\\shravni_427263\\shravni.427263.36.jpg written!\n",
      ".\\traning_image\\shravni_427263\\shravni.427263.37.jpg written!\n",
      ".\\traning_image\\shravni_427263\\shravni.427263.38.jpg written!\n",
      ".\\traning_image\\shravni_427263\\shravni.427263.39.jpg written!\n",
      ".\\traning_image\\shravni_427263\\shravni.427263.40.jpg written!\n",
      ".\\traning_image\\shravni_427263\\shravni.427263.41.jpg written!\n",
      ".\\traning_image\\shravni_427263\\shravni.427263.42.jpg written!\n",
      ".\\traning_image\\shravni_427263\\shravni.427263.43.jpg written!\n",
      ".\\traning_image\\shravni_427263\\shravni.427263.44.jpg written!\n",
      ".\\traning_image\\shravni_427263\\shravni.427263.45.jpg written!\n",
      ".\\traning_image\\shravni_427263\\shravni.427263.46.jpg written!\n",
      ".\\traning_image\\shravni_427263\\shravni.427263.47.jpg written!\n",
      ".\\traning_image\\shravni_427263\\shravni.427263.48.jpg written!\n",
      ".\\traning_image\\shravni_427263\\shravni.427263.49.jpg written!\n",
      ".\\traning_image\\shravni_427263\\shravni.427263.50.jpg written!\n"
     ]
    }
   ],
   "source": [
    "faceCascade = cv2.CascadeClassifier('haarcascade_frontalface_default.xml')#xml file for face detection\n",
    "video_capture = cv2.VideoCapture(0)#open a vedi\n",
    "img_counter = 1 #count level \n",
    "run=0\n",
    "i = 0\n",
    "while True:\n",
    "    \n",
    "    # Capture frame-by-frame\n",
    "    ret, frame = video_capture.read()#read a image from vedio\n",
    "    gray = cv2.cvtColor(frame, cv2.COLOR_BGR2GRAY)#convert to gray scale\n",
    "    faces = faceCascade.detectMultiScale(gray, 1.3, 5)#face size\n",
    "    if len(faces)==0:\n",
    "        continue\n",
    "    for (x,y,w,h) in faces:\n",
    "        cv2.rectangle(frame,(x,y),(x+w,y+h),(255,0,0),2)#show face position in a frame\n",
    "        roi_gray = gray[y:y+h, x:x+w]#gray scale crop\n",
    "        roi_color = frame[y:y+h, x:x+w]#color image scale crop\n",
    "    k=cv2.waitKey(10)\n",
    "    cv2.imshow('FaceDetection', frame)\n",
    "    \n",
    "    if img_counter == 51: #ESC Pressed\n",
    "        break\n",
    "    i+=1\n",
    "    if i % 2 ==0:\n",
    "        img_name = '.\\\\traning_image\\\\'+str(Folder_name)+'_'+str(Folder_id)+'\\\\'+str(Folder_name)+'.'+str(Folder_id)+'.'+'{}.jpg'.format(img_counter)\n",
    "        cv2.imwrite(img_name, roi_gray)\n",
    "        print(\"{} written!\".format(img_name))\n",
    "        img_counter += 1\n",
    "    if k == 113:\n",
    "        break\n",
    "# When everything is done, release the capture\n",
    "video_capture.release()\n",
    "cv2.destroyAllWindows()"
   ]
  },
  {
   "cell_type": "code",
   "execution_count": null,
   "metadata": {},
   "outputs": [],
   "source": []
  },
  {
   "cell_type": "code",
   "execution_count": null,
   "metadata": {},
   "outputs": [],
   "source": []
  },
  {
   "cell_type": "code",
   "execution_count": null,
   "metadata": {},
   "outputs": [],
   "source": []
  }
 ],
 "metadata": {
  "kernelspec": {
   "display_name": "Python 3 (ipykernel)",
   "language": "python",
   "name": "python3"
  },
  "language_info": {
   "codemirror_mode": {
    "name": "ipython",
    "version": 3
   },
   "file_extension": ".py",
   "mimetype": "text/x-python",
   "name": "python",
   "nbconvert_exporter": "python",
   "pygments_lexer": "ipython3",
   "version": "3.9.7"
  }
 },
 "nbformat": 4,
 "nbformat_minor": 2
}
